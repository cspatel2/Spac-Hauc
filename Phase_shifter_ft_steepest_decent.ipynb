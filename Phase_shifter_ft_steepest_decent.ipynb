{
 "cells": [
  {
   "cell_type": "code",
   "execution_count": 1,
   "metadata": {},
   "outputs": [],
   "source": [
    "#Import Statements"
   ]
  },
  {
   "cell_type": "code",
   "execution_count": 2,
   "metadata": {},
   "outputs": [],
   "source": [
    "#steepest_descent method as a function\n",
    "\n",
    "def steepest_descent():\n",
    "    '''\n",
    "    function uses the steepest slope of a differential function to find location of minima\n",
    "    input: function? not really but will figure it out\n",
    "    output: location of minima\n",
    "    '''\n",
    "    # Thoughts:\n",
    "    # I am thinking I will tweak my orginal code so that it is looking for a maxima in theta??\n",
    "    # or use the x,y and then convert that to theta? \n",
    "    # deff confusing if there is no theta in the test \"data\"\n",
    "    \n",
    "    return max_value"
   ]
  },
  {
   "cell_type": "code",
   "execution_count": null,
   "metadata": {},
   "outputs": [],
   "source": [
    "#use steepest decent for all 16 phasers and store that data at time t=t\n",
    "\n",
    "def optimal_angle():\n",
    "    '''\n",
    "    calculates theta at which the intensity is maximum for that phase adjuster\n",
    "    (the ratio the power in the directed beam direction versus the total power \n",
    "    is minimum using steepest_descent somehow)\n",
    "    input: position on the 4x4 grid , and some other stuff??? \n",
    "    output: theta_max\n",
    "    '''\n",
    "    # Thoughts:\n",
    "    # what is prior info we know? Do you think we will know the total power of the beam? I assume we do\n",
    "    # actually implementing steepest_decent would be in its little square in the grid right? \n",
    "    #i still gotto figure out how each of the phases are added up to make one optimal beam \n",
    "    \n",
    "    return theta_max"
   ]
  },
  {
   "cell_type": "code",
   "execution_count": 3,
   "metadata": {},
   "outputs": [],
   "source": [
    "# this function will impliment the optimal_angle function to find the required phase shift for each phase\n",
    "# in order to get the strongest signal\n",
    "\n",
    "def phase_shifter():\n",
    "    '''\n",
    "    implements optimal_angle function for 16 phase adjusters\n",
    "    input: data?? (im asumming we will know some sort of intensity info prior to implementing this)\n",
    "    output: array of 16 phases that need to be send over to the hardware\n",
    "    '''\n",
    "    phase_shifts = []\n",
    "    for i in range(16):\n",
    "        phase_shifts.append(optimal_angle(i))\n",
    "    \n",
    "    # Thoughts:\n",
    "    # gotto figure out how I want to organize the data that gets sent out\n",
    "    # feel like this is probs the easiest part of all of this   \n",
    "    \n",
    "    return phase_shifts\n",
    "\n",
    "    "
   ]
  },
  {
   "cell_type": "code",
   "execution_count": null,
   "metadata": {},
   "outputs": [],
   "source": [
    "# Run phase_shifter for all t which will be from an array with step del_t\n",
    "\n",
    "for t in time:\n",
    "    '''\n",
    "    run the above and maybe also add the \"sending over to hardware\" part in here. not sure what that entails\n",
    "    '''"
   ]
  }
 ],
 "metadata": {
  "kernelspec": {
   "display_name": "Python 3",
   "language": "python",
   "name": "python3"
  },
  "language_info": {
   "codemirror_mode": {
    "name": "ipython",
    "version": 3
   },
   "file_extension": ".py",
   "mimetype": "text/x-python",
   "name": "python",
   "nbconvert_exporter": "python",
   "pygments_lexer": "ipython3",
   "version": "3.6.8"
  }
 },
 "nbformat": 4,
 "nbformat_minor": 4
}
